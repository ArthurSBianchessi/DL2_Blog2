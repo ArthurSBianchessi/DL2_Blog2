{
 "cells": [
  {
   "cell_type": "code",
   "execution_count": 55,
   "metadata": {},
   "outputs": [],
   "source": [
    "import torch\n",
    "import torch.nn             as nn\n",
    "from torch.utils.data       import DataLoader, random_split\n",
    "from torchvision            import transforms\n",
    "from torchvision.datasets   import MNIST\n",
    "\n",
    "import lightning                    as     L\n",
    "from   lightning.pytorch.callbacks  import EarlyStopping\n",
    "from   lightning.pytorch.callbacks  import TQDMProgressBar, ModelCheckpoint\n",
    "from   lightning.pytorch.loggers    import TensorBoardLogger, CSVLogger"
   ]
  },
  {
   "cell_type": "code",
   "execution_count": 56,
   "metadata": {},
   "outputs": [],
   "source": [
    "\n",
    "class ConvNet(L.LightningModule):\n",
    "    def __init__(self):\n",
    "        super(ConvNet, self).__init__()\n",
    "        self.model = nn.Sequential(\n",
    "            nn.Conv2d(1, 32, 3, 1),             # 28x28 -> 32x26x26\n",
    "            nn.ReLU(),\n",
    "            nn.MaxPool2d(2),                    # 32x26x26 -> 32x13x13\n",
    "            nn.Conv2d(32, 64, 3, 1),            # 32x13x13 -> 64x11x11\n",
    "            nn.ReLU(),\n",
    "            nn.MaxPool2d(2),                    # 64x11x11 -> 64x5x5\n",
    "            nn.Conv2d(64, 128, 3, 1),           # 64x5x5 -> 128x3x3\n",
    "            nn.ReLU(),\n",
    "            nn.Conv2d(128, 256, 3, 1),          # 128x3x3 -> 256x1x1\n",
    "            nn.ReLU(),\n",
    "            nn.Flatten(),                       # 256x1x1 -> 256\n",
    "            nn.Linear(256, 128),                # 256 -> 128\n",
    "            nn.ReLU(),\n",
    "            nn.Linear(128, 10),                 # 128 -> 10\n",
    "        )\n",
    "        self.criteria = nn.CrossEntropyLoss()\n",
    "        mnist_dataset = MNIST(root='.', train=True, download=True, transform=transforms.ToTensor())\n",
    "        self.train_dataset, self.val_dataset = random_split(mnist_dataset, [55000, 5000])\n",
    "        self.test_dataset = MNIST(root='.', train=False, download=True, transform=transforms.ToTensor())\n",
    "\n",
    "    def forward(self, x):\n",
    "        return self.model(x)\n",
    "\n",
    "    def _common_step(self, batch, batch_idx):\n",
    "        x, y = batch\n",
    "        y_hat = self(x)\n",
    "        return y_hat, self.criteria(y_hat, y)\n",
    "\n",
    "    def training_step(self, batch, batch_idx):\n",
    "        y_hat, loss = self._common_step(batch, batch_idx)\n",
    "        self.log('train_loss', loss, on_step=True, on_epoch=True, prog_bar=True, logger=True)\n",
    "        return loss\n",
    "\n",
    "    def configure_optimizers(self):\n",
    "        return torch.optim.Adam(self.parameters(), lr=0.001)\n",
    "    \n",
    "    def validation_step(self, batch, batch_idx):\n",
    "        y_hat, loss = self._common_step(batch, batch_idx)\n",
    "\n",
    "        self.log('val_loss', loss)\n",
    "        return loss\n",
    "\n",
    "    def test_step(self, batch, batch_idx):\n",
    "        y_hat, loss = self._common_step(batch, batch_idx)\n",
    "        self.log('test_loss', loss)\n",
    "        return loss\n",
    "    \n",
    "    def train_dataloader(self):\n",
    "        return DataLoader(self.train_dataset, batch_size=32, num_workers=10, shuffle=True)\n",
    "    \n",
    "    def val_dataloader(self):\n",
    "        return DataLoader(self.val_dataset,   batch_size=32, num_workers=10, shuffle=False, persistent_workers=True)\n",
    "\n",
    "    def test_dataloader(self):\n",
    "        return DataLoader(self.test_dataset,  batch_size=32, num_workers=10, shuffle=False, persistent_workers=True)"
   ]
  },
  {
   "cell_type": "code",
   "execution_count": 57,
   "metadata": {},
   "outputs": [
    {
     "name": "stdout",
     "output_type": "stream",
     "text": [
      "Train: 860 batches, Val: 79 batches, Test: 157 batches\n"
     ]
    }
   ],
   "source": [
    "train_dataset, val_dataset   = random_split(MNIST(root='.', train=True, transform=transforms.ToTensor()), [55000, 5000])\n",
    "test_dataset                = MNIST(root='.', train=False, transform=transforms.ToTensor())\n",
    "\n",
    "train_loader                = DataLoader(train_dataset, batch_size=64, shuffle=True,  num_workers=4, persistent_workers=True)\n",
    "val_loader                  = DataLoader(val_dataset,   batch_size=64, shuffle=False, num_workers=4, persistent_workers=True)\n",
    "test_loader                 = DataLoader(test_dataset,  batch_size=64, shuffle=False, num_workers=4, persistent_workers=True)\n",
    "print(f\"Train: {len(train_loader)} batches, Val: {len(val_loader)} batches, Test: {len(test_loader)} batches\")"
   ]
  },
  {
   "cell_type": "code",
   "execution_count": 58,
   "metadata": {},
   "outputs": [
    {
     "name": "stderr",
     "output_type": "stream",
     "text": [
      "GPU available: True (mps), used: True\n",
      "TPU available: False, using: 0 TPU cores\n",
      "IPU available: False, using: 0 IPUs\n",
      "HPU available: False, using: 0 HPUs\n",
      "Missing logger folder: logs/csv/\n",
      "\n",
      "  | Name     | Type             | Params\n",
      "----------------------------------------------\n",
      "0 | model    | Sequential       | 422 K \n",
      "1 | criteria | CrossEntropyLoss | 0     \n",
      "----------------------------------------------\n",
      "422 K     Trainable params\n",
      "0         Non-trainable params\n",
      "422 K     Total params\n",
      "1.688     Total estimated model params size (MB)\n"
     ]
    },
    {
     "data": {
      "application/vnd.jupyter.widget-view+json": {
       "model_id": "84e4d352fe4345e5a62f4e31da146586",
       "version_major": 2,
       "version_minor": 0
      },
      "text/plain": [
       "Sanity Checking: |          | 0/? [00:00<?, ?it/s]"
      ]
     },
     "metadata": {},
     "output_type": "display_data"
    },
    {
     "data": {
      "application/vnd.jupyter.widget-view+json": {
       "model_id": "0eca7c595f17403a9c7096c86286f29d",
       "version_major": 2,
       "version_minor": 0
      },
      "text/plain": [
       "Training: |          | 0/? [00:00<?, ?it/s]"
      ]
     },
     "metadata": {},
     "output_type": "display_data"
    },
    {
     "data": {
      "application/vnd.jupyter.widget-view+json": {
       "model_id": "3ca7c00dfc29467886356b33799e00bf",
       "version_major": 2,
       "version_minor": 0
      },
      "text/plain": [
       "Validation: |          | 0/? [00:00<?, ?it/s]"
      ]
     },
     "metadata": {},
     "output_type": "display_data"
    },
    {
     "data": {
      "application/vnd.jupyter.widget-view+json": {
       "model_id": "79123e4216d442b8ac03967104d51f07",
       "version_major": 2,
       "version_minor": 0
      },
      "text/plain": [
       "Validation: |          | 0/? [00:00<?, ?it/s]"
      ]
     },
     "metadata": {},
     "output_type": "display_data"
    },
    {
     "data": {
      "application/vnd.jupyter.widget-view+json": {
       "model_id": "a1e3b08a40a24823986fd007ff26d671",
       "version_major": 2,
       "version_minor": 0
      },
      "text/plain": [
       "Validation: |          | 0/? [00:00<?, ?it/s]"
      ]
     },
     "metadata": {},
     "output_type": "display_data"
    },
    {
     "data": {
      "application/vnd.jupyter.widget-view+json": {
       "model_id": "94b4053902e34ec5a1606a4d9466b0fc",
       "version_major": 2,
       "version_minor": 0
      },
      "text/plain": [
       "Validation: |          | 0/? [00:00<?, ?it/s]"
      ]
     },
     "metadata": {},
     "output_type": "display_data"
    },
    {
     "data": {
      "application/vnd.jupyter.widget-view+json": {
       "model_id": "b13b13e21bf045cfb96fa2666cbfce9d",
       "version_major": 2,
       "version_minor": 0
      },
      "text/plain": [
       "Validation: |          | 0/? [00:00<?, ?it/s]"
      ]
     },
     "metadata": {},
     "output_type": "display_data"
    },
    {
     "data": {
      "application/vnd.jupyter.widget-view+json": {
       "model_id": "f5e31f891b234878a5f988112f79066f",
       "version_major": 2,
       "version_minor": 0
      },
      "text/plain": [
       "Validation: |          | 0/? [00:00<?, ?it/s]"
      ]
     },
     "metadata": {},
     "output_type": "display_data"
    },
    {
     "data": {
      "application/vnd.jupyter.widget-view+json": {
       "model_id": "8fb46114f3ce4045be7746f2be98f43b",
       "version_major": 2,
       "version_minor": 0
      },
      "text/plain": [
       "Validation: |          | 0/? [00:00<?, ?it/s]"
      ]
     },
     "metadata": {},
     "output_type": "display_data"
    },
    {
     "data": {
      "application/vnd.jupyter.widget-view+json": {
       "model_id": "0aca01773b0d466fb484e1f1404dac79",
       "version_major": 2,
       "version_minor": 0
      },
      "text/plain": [
       "Validation: |          | 0/? [00:00<?, ?it/s]"
      ]
     },
     "metadata": {},
     "output_type": "display_data"
    },
    {
     "data": {
      "application/vnd.jupyter.widget-view+json": {
       "model_id": "fc29659f936245d5a1288d248c50ba64",
       "version_major": 2,
       "version_minor": 0
      },
      "text/plain": [
       "Validation: |          | 0/? [00:00<?, ?it/s]"
      ]
     },
     "metadata": {},
     "output_type": "display_data"
    },
    {
     "data": {
      "application/vnd.jupyter.widget-view+json": {
       "model_id": "4390e20e67404c12bb81e74ad97ed37d",
       "version_major": 2,
       "version_minor": 0
      },
      "text/plain": [
       "Validation: |          | 0/? [00:00<?, ?it/s]"
      ]
     },
     "metadata": {},
     "output_type": "display_data"
    },
    {
     "data": {
      "application/vnd.jupyter.widget-view+json": {
       "model_id": "0036b5c0a7654c799eea80d248494148",
       "version_major": 2,
       "version_minor": 0
      },
      "text/plain": [
       "Validation: |          | 0/? [00:00<?, ?it/s]"
      ]
     },
     "metadata": {},
     "output_type": "display_data"
    }
   ],
   "source": [
    "model               = ConvNet()\n",
    "trainer             = L.Trainer(\n",
    "                            max_epochs=100, enable_progress_bar=True, devices=1,\n",
    "                            callbacks=[\n",
    "                                EarlyStopping(monitor=\"val_loss\", patience=5), \n",
    "                                TQDMProgressBar(refresh_rate=10),\n",
    "                                ModelCheckpoint(filename='{epoch}_{step}_{val_loss:.4f}_val_acc={val_acc:.4f}', save_top_k=3, monitor='val_loss')\n",
    "                                ],\n",
    "                            logger=[\n",
    "                                CSVLogger(        \"logs/\", name='csv/'),\n",
    "                                TensorBoardLogger(\"logs/\", name='tensorboard/'),\n",
    "                                ]\n",
    "                            )\n",
    "trainer.fit(model)"
   ]
  },
  {
   "cell_type": "code",
   "execution_count": 61,
   "metadata": {},
   "outputs": [
    {
     "name": "stderr",
     "output_type": "stream",
     "text": [
      "Restoring states from the checkpoint path at logs/csv/version_0/checkpoints/epoch=5_step=10314_val_loss=0.0349_val_acc=val_acc=0.0000.ckpt\n",
      "Loaded model weights from the checkpoint at logs/csv/version_0/checkpoints/epoch=5_step=10314_val_loss=0.0349_val_acc=val_acc=0.0000.ckpt\n"
     ]
    },
    {
     "data": {
      "application/vnd.jupyter.widget-view+json": {
       "model_id": "6679841fd9214e4d920ef39adfc981e0",
       "version_major": 2,
       "version_minor": 0
      },
      "text/plain": [
       "Testing: |          | 0/? [00:00<?, ?it/s]"
      ]
     },
     "metadata": {},
     "output_type": "display_data"
    },
    {
     "name": "stdout",
     "output_type": "stream",
     "text": [
      "────────────────────────────────────────────────────────────────────────────────────────────────────────────────────────\n",
      "       Test metric             DataLoader 0\n",
      "────────────────────────────────────────────────────────────────────────────────────────────────────────────────────────\n",
      "        test_loss           0.03595905005931854\n",
      "────────────────────────────────────────────────────────────────────────────────────────────────────────────────────────\n"
     ]
    },
    {
     "data": {
      "text/plain": [
       "[{'test_loss': 0.03595905005931854}]"
      ]
     },
     "execution_count": 61,
     "metadata": {},
     "output_type": "execute_result"
    }
   ],
   "source": [
    "trainer.test()"
   ]
  },
  {
   "cell_type": "code",
   "execution_count": 66,
   "metadata": {},
   "outputs": [
    {
     "name": "stdout",
     "output_type": "stream",
     "text": [
      "Best Checkpoint: logs/csv/version_0/checkpoints/epoch=5_step=10314_val_loss=0.0349_val_acc=val_acc=0.0000.ckpt\n"
     ]
    }
   ],
   "source": [
    "print(f'Best Checkpoint: {trainer.checkpoint_callback.best_model_path}')"
   ]
  },
  {
   "cell_type": "code",
   "execution_count": 15,
   "metadata": {},
   "outputs": [
    {
     "data": {
      "application/vnd.plotly.v1+json": {
       "config": {
        "plotlyServerURL": "https://plot.ly"
       },
       "data": [
        {
         "hovertemplate": "Dataset=Train (Step)<br>step=%{x}<br>Loss=%{y}<extra></extra>",
         "legendgroup": "Train (Step)",
         "line": {
          "color": "#636efa",
          "dash": "solid"
         },
         "marker": {
          "symbol": "circle"
         },
         "mode": "lines",
         "name": "Train (Step)",
         "orientation": "v",
         "showlegend": true,
         "type": "scatter",
         "x": [
          49,
          99,
          149,
          199,
          249,
          299,
          349,
          399,
          449,
          499,
          549,
          599,
          649,
          699,
          749,
          799,
          849,
          899,
          949,
          999,
          1049,
          1099,
          1149,
          1199,
          1249,
          1299,
          1349,
          1399,
          1449,
          1499,
          1549,
          1599,
          1649,
          1699,
          1749,
          1799,
          1849,
          1899,
          1949,
          1999,
          2049,
          2099,
          2149,
          2199,
          2249,
          2299,
          2349,
          2399,
          2449,
          2499,
          2549,
          2599,
          2649,
          2699,
          2749,
          2799,
          2849,
          2899,
          2949,
          2999,
          3049,
          3099,
          3149,
          3199,
          3249,
          3299,
          3349,
          3399,
          3449,
          3499,
          3549,
          3599,
          3649,
          3699,
          3749,
          3799,
          3849,
          3899,
          3949,
          3999,
          4049,
          4099,
          4149,
          4199,
          4249,
          4299,
          4349,
          4399,
          4449,
          4499,
          4549,
          4599,
          4649,
          4699,
          4749,
          4799,
          4849,
          4899,
          4949,
          4999,
          5049,
          5099,
          5149,
          5199,
          5249,
          5299,
          5349,
          5399,
          5449,
          5499,
          5549,
          5599,
          5649,
          5699,
          5749,
          5799,
          5849,
          5899,
          5949,
          5999,
          6049,
          6099,
          6149,
          6199,
          6249,
          6299,
          6349,
          6399,
          6449,
          6499,
          6549,
          6599,
          6649,
          6699,
          6749,
          6799,
          6849,
          6899,
          6949,
          6999,
          7049,
          7099,
          7149,
          7199,
          7249,
          7299,
          7349,
          7399,
          7449,
          7499,
          7549,
          7599,
          7649,
          7699,
          7749,
          7799,
          7849,
          7899,
          7949,
          7999,
          8049,
          8099,
          8149,
          8199,
          8249,
          8299,
          8349,
          8399,
          8449,
          8499,
          8549,
          8599,
          8649,
          8699,
          8749,
          8799,
          8849,
          8899,
          8949,
          8999,
          9049,
          9099,
          9149,
          9199,
          9249,
          9299,
          9349,
          9399,
          9449,
          9499,
          9549,
          9599,
          9649,
          9699,
          9749,
          9799,
          9849,
          9899,
          9949,
          9999,
          10049,
          10099,
          10149,
          10199,
          10249,
          10299,
          10349,
          10399,
          10449,
          10499,
          10549,
          10599,
          10649,
          10699,
          10749,
          10799,
          10849,
          10899,
          10949,
          10999,
          11049,
          11099,
          11149,
          11199,
          11249,
          11299,
          11349,
          11399,
          11449,
          11499,
          11549,
          11599,
          11649,
          11699,
          11749,
          11799,
          11849,
          11899,
          11949,
          11999,
          12049,
          12099,
          12149,
          12199,
          12249,
          12299,
          12349,
          12399,
          12449,
          12499,
          12549,
          12599,
          12649,
          12699,
          12749,
          12799,
          12849,
          12899,
          12949,
          12999,
          13049,
          13099,
          13149,
          13199,
          13249,
          13299,
          13349,
          13399,
          13449,
          13499,
          13549,
          13599,
          13649,
          13699,
          13749,
          13799,
          13849,
          13899,
          13949,
          13999,
          14049,
          14099,
          14149,
          14199,
          14249,
          14299,
          14349,
          14399,
          14449,
          14499,
          14549,
          14599,
          14649,
          14699,
          14749,
          14799,
          14849,
          14899,
          14949,
          14999,
          15049,
          15099,
          15149,
          15199,
          15249,
          15299,
          15349,
          15399,
          15449,
          15499,
          15549,
          15599,
          15649,
          15699,
          15749,
          15799,
          15849,
          15899,
          15949,
          15999,
          16049,
          16099,
          16149,
          16199,
          16249,
          16299,
          16349,
          16399,
          16449,
          16499,
          16549,
          16599,
          16649,
          16699,
          16749,
          16799,
          16849,
          16899,
          16949,
          16999,
          17049,
          17099,
          17149,
          17199,
          17249,
          17299,
          17349,
          17399,
          17449,
          17499,
          17549,
          17599,
          17649,
          17699,
          17749,
          17799,
          17849,
          17899,
          17949,
          17999,
          18049,
          18099,
          18149,
          18199,
          18249,
          18299,
          18349,
          18399,
          18449,
          18499,
          18549,
          18599,
          18649,
          18699,
          18749,
          18799,
          18849,
          18899
         ],
         "xaxis": "x",
         "y": [
          0.8101005554199219,
          0.6476278305053711,
          0.511871874332428,
          0.2778161466121673,
          0.1803932785987854,
          0.1962166726589203,
          0.260413646697998,
          0.3232003450393677,
          0.2727500200271606,
          0.0461520925164222,
          0.3109533786773681,
          0.322497010231018,
          0.1569661945104599,
          0.014857642352581,
          0.0683038979768753,
          0.047223400324583,
          0.1486442685127258,
          0.0123801231384277,
          0.0739022567868232,
          0.1045058220624923,
          0.0213591177016496,
          0.1039921715855598,
          0.1143275946378707,
          0.0507980659604072,
          0.0187845043838024,
          0.0735268294811248,
          0.0057630161754786,
          0.1623283624649047,
          0.0570731610059738,
          0.174617737531662,
          0.0666151493787765,
          0.0286420490592718,
          0.1780308336019516,
          0.056612990796566,
          0.0184723138809204,
          0.1607265770435333,
          0.0153321241959929,
          0.0439091548323631,
          0.0323231630027294,
          0.0091814883053302,
          0.015560102649033,
          0.0452224537730217,
          0.1766780912876129,
          0.0081872968003153,
          0.0247256308794021,
          0.0902339443564415,
          0.054754726588726,
          0.0025391341187059,
          0.0020277695730328,
          0.0050430637784302,
          0.2371133267879486,
          0.1095569282770156,
          0.0160136576741933,
          0.0436947494745254,
          0.021196611225605,
          0.0250797476619482,
          0.024047065526247,
          0.0203039925545454,
          0.0183751489967107,
          0.0055924211628735,
          0.2181301862001419,
          0.0034398604184389,
          0.0273284912109375,
          0.0093689747154712,
          0.0647367164492607,
          0.0020504230633378,
          0.0328818187117576,
          0.0164838228374719,
          0.1694680750370025,
          0.001978215528652,
          0.0030463540460914,
          0.0029476964846253,
          0.0096321674063801,
          0.0236521121114492,
          0.0810605585575103,
          0.0035303935874253,
          0.0177216045558452,
          0.001127328723669,
          0.0041039651259779,
          0.09611427038908,
          0.0008183836471289,
          0.0068519264459609,
          0.0016249133041128,
          0.0053512742742896,
          0.0013383887708187,
          0.0060059614479541,
          0.0141499331220984,
          0.1129581481218338,
          0.2845624983310699,
          0.0067956307902932,
          0.2392536103725433,
          0.0035642066504806,
          0.0067324670962989,
          0.0034654922783374,
          0.0614808164536953,
          0.0027386569418013,
          0.074851393699646,
          0.00008071333286352456,
          0.0936425402760505,
          0.1332982927560806,
          0.003697651438415,
          0.0040906639769673,
          0.0013613576302304,
          0.1257871836423874,
          0.00004185985017102212,
          0.0021792324259877,
          0.0106185190379619,
          0.0005895651411265,
          0.000389817985706,
          0.0541078895330429,
          0.0019009185489267,
          0.0130930766463279,
          0.0009767739102244,
          0.0040640141814947,
          0.0029332058038562,
          0.0002201998722739,
          0.0001182259366032,
          0.0009971323888748,
          0.0279059316962957,
          0.0103229591622948,
          0.0368410609662532,
          0.0021186545491218,
          0.0130325406789779,
          0.0006207352271303,
          0.0623994171619415,
          0.0140905752778053,
          0.1726213991641998,
          0.0067135654389858,
          0.0050131184980273,
          0.0015050623333081,
          0.0138675523921847,
          0.0462171509861946,
          0.0575370229780674,
          0.0580482594668865,
          0.0003999595937784,
          0.0034195338375866,
          0.1079139411449432,
          0.0055427942425012,
          0.000617402489297,
          0.0168291702866554,
          0.000831996789202,
          0.0013241113629192,
          0.0044098040089011,
          0.0032810240518301,
          0.000907412613742,
          0.0012264872202649,
          0.0004019210755359,
          0.0019177042413502,
          0.0013333744136616,
          0.0092298472300171,
          0.0004061005602125,
          0.0033639350440353,
          0.1578128188848495,
          0.0040526944212615,
          0.0535857900977134,
          0.0797792226076126,
          0.0073251323774456,
          0.0058414102531969,
          0.2792783975601196,
          0.0061659323982894,
          0.1467008292675018,
          0.0020112907513976,
          0.0110528534278273,
          0.00003272755930083804,
          0.0015185427619144,
          0.0290381778031587,
          0.0111118406057357,
          0.0022621126845479,
          0.0025938656181097,
          0.0007316982373595,
          0.0005213315598666,
          0.000100301222119,
          0.00007587875006720424,
          0.0650849565863609,
          0.0020717736333608,
          0.0007419802714139,
          0.000302728411043,
          0.0679255351424217,
          0.0029251568485051,
          0.026503911241889,
          0.0135732134804129,
          0.0103301918134093,
          0.0023625723551958,
          0.0046072714030742,
          0.0553716868162155,
          0.0713521242141723,
          0.0113356318324804,
          0.0311305206269025,
          0.0026141484268009,
          0.0003902504395227,
          0.0025921131018549,
          0.0001201527338707,
          0.0329294018447399,
          0.0194627791643142,
          0.002899674931541,
          0.0287610683590173,
          0.0780238881707191,
          0.0087183210998773,
          0.0005790212308056,
          0.0006197701441124,
          0.0387429632246494,
          0.037321351468563,
          0.0043105334043502,
          0.1014706715941429,
          0.1903364956378936,
          0.0164038687944412,
          0.0494107753038406,
          0.0064145647920668,
          0.0066245445050299,
          0.0015529869124293,
          0.0028213232289999,
          0.00006018847489031032,
          0.00005130031786393374,
          0.003160156076774,
          0.0001224401057697,
          0.0036215356085449,
          0.0201255902647972,
          0.00005584905738942325,
          0.0303231962025165,
          0.0001996741921175,
          0.00002196199602622073,
          0.0680935978889465,
          0.000057097939134109765,
          0.0004383589839562,
          0.0001575660862727,
          0.0002573052770458,
          0.0226893983781337,
          0.0049849902279675,
          0.0420788563787937,
          0.0005462662666104,
          0.0015545757487416,
          0.0017119414405897,
          0.0150041487067937,
          0.0142639121040701,
          0.0031009397935122,
          0.0302867274731397,
          0.00005215044802753255,
          0.0007492537843063,
          0.00001663628063397482,
          0.0051154028624296,
          0.0039202370680868,
          0.012106055393815,
          0.0506780855357646,
          0.0003543867205735,
          0.0005046620499342,
          0.00003969616591348313,
          0.0005484665744006,
          0.0004304852336645,
          0.0052891178056597,
          0.0002336956822546,
          0.0003880906442645,
          0.0004320760781411,
          0.023363497108221,
          0.0008246094221249,
          0.0146753126755356,
          0.000028312173526501283,
          0.0013213674537837,
          0.0001526883133919,
          0.0043934355489909,
          0.0003770033072214,
          0.0026742750778794,
          0.0044652493670582,
          0.000037214944313745946,
          0.0013210468459874,
          0.0054251849651336,
          0.1218367218971252,
          0.0244153868407011,
          0.00008064381836447865,
          0.0800201445817947,
          0.0005777368787676,
          0.0007554232724942,
          0.0070692161098122,
          0.0059375124983489,
          0.1365955770015716,
          0.0007475681486539,
          0.0006518203299492,
          0.00009178873006021604,
          0.0071468274109065,
          0.0052322153933346,
          0.0022843598853796,
          0.0003411336801946,
          0.0040465774945914,
          0.000138434494147,
          0.0002116937394021,
          0.0002037827798631,
          0.0002321968058822,
          0.0037874006666243,
          0.0045050056651234,
          0.000008169268767233007,
          0.0020390641875565,
          0.0012088270159438,
          0.0001653429644647,
          0.0003555372531991,
          0.0215258039534091,
          0.000006336235855997074,
          0.000008433683433395345,
          0.1283264905214309,
          0.0027144574560225,
          0.0065101915970444,
          0.00007655272929696366,
          0.1251931637525558,
          0.0536394529044628,
          0.0006773610366508,
          0.0056172972545027,
          0.008093811571598,
          0.000004809176971320994,
          0.000624691194389,
          0.0003980995679739,
          0.0005800048238597,
          0.0001422829082002,
          0.0002582788292784,
          0.0008227809448726,
          0.0026424515526741,
          0.00006467186904046685,
          0.0001039317648974,
          0.0000016763453913881676,
          0.0025708887260407,
          0.000042357874917797744,
          0.0017878406215459,
          0.000036927212931914255,
          0.0054989499039947,
          0.00005566422623815015,
          0.0012622965732589,
          0.0138167217373847,
          0.000029493145120795816,
          0.0009135373402386,
          0.0007069122511893,
          0.000013667266102856956,
          0.0000015869588878558716,
          0.0014098670799285,
          0.0001051638973876,
          0.0000017843892692326335,
          0.000013059900084044784,
          0.0015289861476048,
          0.0064781443215906,
          0.0019623518455773,
          0.0000012107039992770297,
          0.003305826568976,
          0.1223731935024261,
          0.00007040514174150303,
          0.0002375705662416,
          0.0476511418819427,
          0.0011343198129907,
          0.0237520951777696,
          0.000028594051400432363,
          0.0007860790356062,
          0.0090860901400446,
          0.002551480429247,
          0.00003377238317625597,
          0.0002252729900646,
          0.0007213119533844,
          0.00003670350997708738,
          0.0031652874313294,
          0.000343224935932,
          0.0004183562705293,
          0.00006025098991813138,
          0.0587837249040603,
          0.00583580089733,
          0.0121896574273705,
          0.0998128280043602,
          0.0314302295446395,
          0.0024272925220429,
          0.0007783863693475,
          0.0002681372861843,
          0.000028810540243284777,
          0.0000010058244015453963,
          0.0000026449174583831336,
          0.0023159005213528,
          0.00009915500413626432,
          0.00005760438943980262,
          0.00004465197343961336,
          0.0004493415763135,
          0.0004285965114831,
          0.0002911334449891,
          0.00003653179737739265,
          0.000310299656121,
          0.120071567595005,
          0.0001746358320815
         ],
         "yaxis": "y"
        },
        {
         "hovertemplate": "Dataset=Train (Epoch)<br>step=%{x}<br>Loss=%{y}<extra></extra>",
         "legendgroup": "Train (Epoch)",
         "line": {
          "color": "#EF553B",
          "dash": "solid"
         },
         "marker": {
          "symbol": "circle"
         },
         "mode": "lines",
         "name": "Train (Epoch)",
         "orientation": "v",
         "showlegend": true,
         "type": "scatter",
         "x": [
          1718,
          3437,
          5156,
          6875,
          8594,
          10313,
          12032,
          13751,
          15470,
          17189,
          18908
         ],
         "xaxis": "x",
         "y": [
          0.1796196550130844,
          0.0543153434991836,
          0.0404426343739032,
          0.0309901144355535,
          0.0243758279830217,
          0.0196569729596376,
          0.0170465838164091,
          0.0148406540974974,
          0.0121909268200397,
          0.0114176422357559,
          0.0097089940682053
         ],
         "yaxis": "y"
        },
        {
         "hovertemplate": "Dataset=Val<br>step=%{x}<br>Loss=%{y}<extra></extra>",
         "legendgroup": "Val",
         "line": {
          "color": "#00cc96",
          "dash": "solid"
         },
         "marker": {
          "symbol": "circle"
         },
         "mode": "lines",
         "name": "Val",
         "orientation": "v",
         "showlegend": true,
         "type": "scatter",
         "x": [
          1718,
          3437,
          5156,
          6875,
          8594,
          10313,
          12032,
          13751,
          15470,
          17189,
          18908
         ],
         "xaxis": "x",
         "y": [
          0.0849361047148704,
          0.0591664537787437,
          0.037229761481285,
          0.0356798022985458,
          0.0358533896505832,
          0.0348894074559211,
          0.0463542342185974,
          0.0439949296414852,
          0.0403572097420692,
          0.0412920266389846,
          0.0406277142465114
         ],
         "yaxis": "y"
        },
        {
         "hovertemplate": "Dataset=Test<br>step=%{x}<br>Loss=%{y}<extra></extra>",
         "legendgroup": "Test",
         "line": {
          "color": "#ab63fa",
          "dash": "solid"
         },
         "marker": {
          "symbol": "circle"
         },
         "mode": "lines",
         "name": "Test",
         "orientation": "v",
         "showlegend": true,
         "type": "scatter",
         "x": [
          18909,
          18909
         ],
         "xaxis": "x",
         "y": [
          0.0359590649604797,
          0.0359590500593185
         ],
         "yaxis": "y"
        }
       ],
       "layout": {
        "legend": {
         "title": {
          "text": "Dataset"
         },
         "tracegroupgap": 0
        },
        "template": {
         "data": {
          "bar": [
           {
            "error_x": {
             "color": "#2a3f5f"
            },
            "error_y": {
             "color": "#2a3f5f"
            },
            "marker": {
             "line": {
              "color": "#E5ECF6",
              "width": 0.5
             },
             "pattern": {
              "fillmode": "overlay",
              "size": 10,
              "solidity": 0.2
             }
            },
            "type": "bar"
           }
          ],
          "barpolar": [
           {
            "marker": {
             "line": {
              "color": "#E5ECF6",
              "width": 0.5
             },
             "pattern": {
              "fillmode": "overlay",
              "size": 10,
              "solidity": 0.2
             }
            },
            "type": "barpolar"
           }
          ],
          "carpet": [
           {
            "aaxis": {
             "endlinecolor": "#2a3f5f",
             "gridcolor": "white",
             "linecolor": "white",
             "minorgridcolor": "white",
             "startlinecolor": "#2a3f5f"
            },
            "baxis": {
             "endlinecolor": "#2a3f5f",
             "gridcolor": "white",
             "linecolor": "white",
             "minorgridcolor": "white",
             "startlinecolor": "#2a3f5f"
            },
            "type": "carpet"
           }
          ],
          "choropleth": [
           {
            "colorbar": {
             "outlinewidth": 0,
             "ticks": ""
            },
            "type": "choropleth"
           }
          ],
          "contour": [
           {
            "colorbar": {
             "outlinewidth": 0,
             "ticks": ""
            },
            "colorscale": [
             [
              0,
              "#0d0887"
             ],
             [
              0.1111111111111111,
              "#46039f"
             ],
             [
              0.2222222222222222,
              "#7201a8"
             ],
             [
              0.3333333333333333,
              "#9c179e"
             ],
             [
              0.4444444444444444,
              "#bd3786"
             ],
             [
              0.5555555555555556,
              "#d8576b"
             ],
             [
              0.6666666666666666,
              "#ed7953"
             ],
             [
              0.7777777777777778,
              "#fb9f3a"
             ],
             [
              0.8888888888888888,
              "#fdca26"
             ],
             [
              1,
              "#f0f921"
             ]
            ],
            "type": "contour"
           }
          ],
          "contourcarpet": [
           {
            "colorbar": {
             "outlinewidth": 0,
             "ticks": ""
            },
            "type": "contourcarpet"
           }
          ],
          "heatmap": [
           {
            "colorbar": {
             "outlinewidth": 0,
             "ticks": ""
            },
            "colorscale": [
             [
              0,
              "#0d0887"
             ],
             [
              0.1111111111111111,
              "#46039f"
             ],
             [
              0.2222222222222222,
              "#7201a8"
             ],
             [
              0.3333333333333333,
              "#9c179e"
             ],
             [
              0.4444444444444444,
              "#bd3786"
             ],
             [
              0.5555555555555556,
              "#d8576b"
             ],
             [
              0.6666666666666666,
              "#ed7953"
             ],
             [
              0.7777777777777778,
              "#fb9f3a"
             ],
             [
              0.8888888888888888,
              "#fdca26"
             ],
             [
              1,
              "#f0f921"
             ]
            ],
            "type": "heatmap"
           }
          ],
          "heatmapgl": [
           {
            "colorbar": {
             "outlinewidth": 0,
             "ticks": ""
            },
            "colorscale": [
             [
              0,
              "#0d0887"
             ],
             [
              0.1111111111111111,
              "#46039f"
             ],
             [
              0.2222222222222222,
              "#7201a8"
             ],
             [
              0.3333333333333333,
              "#9c179e"
             ],
             [
              0.4444444444444444,
              "#bd3786"
             ],
             [
              0.5555555555555556,
              "#d8576b"
             ],
             [
              0.6666666666666666,
              "#ed7953"
             ],
             [
              0.7777777777777778,
              "#fb9f3a"
             ],
             [
              0.8888888888888888,
              "#fdca26"
             ],
             [
              1,
              "#f0f921"
             ]
            ],
            "type": "heatmapgl"
           }
          ],
          "histogram": [
           {
            "marker": {
             "pattern": {
              "fillmode": "overlay",
              "size": 10,
              "solidity": 0.2
             }
            },
            "type": "histogram"
           }
          ],
          "histogram2d": [
           {
            "colorbar": {
             "outlinewidth": 0,
             "ticks": ""
            },
            "colorscale": [
             [
              0,
              "#0d0887"
             ],
             [
              0.1111111111111111,
              "#46039f"
             ],
             [
              0.2222222222222222,
              "#7201a8"
             ],
             [
              0.3333333333333333,
              "#9c179e"
             ],
             [
              0.4444444444444444,
              "#bd3786"
             ],
             [
              0.5555555555555556,
              "#d8576b"
             ],
             [
              0.6666666666666666,
              "#ed7953"
             ],
             [
              0.7777777777777778,
              "#fb9f3a"
             ],
             [
              0.8888888888888888,
              "#fdca26"
             ],
             [
              1,
              "#f0f921"
             ]
            ],
            "type": "histogram2d"
           }
          ],
          "histogram2dcontour": [
           {
            "colorbar": {
             "outlinewidth": 0,
             "ticks": ""
            },
            "colorscale": [
             [
              0,
              "#0d0887"
             ],
             [
              0.1111111111111111,
              "#46039f"
             ],
             [
              0.2222222222222222,
              "#7201a8"
             ],
             [
              0.3333333333333333,
              "#9c179e"
             ],
             [
              0.4444444444444444,
              "#bd3786"
             ],
             [
              0.5555555555555556,
              "#d8576b"
             ],
             [
              0.6666666666666666,
              "#ed7953"
             ],
             [
              0.7777777777777778,
              "#fb9f3a"
             ],
             [
              0.8888888888888888,
              "#fdca26"
             ],
             [
              1,
              "#f0f921"
             ]
            ],
            "type": "histogram2dcontour"
           }
          ],
          "mesh3d": [
           {
            "colorbar": {
             "outlinewidth": 0,
             "ticks": ""
            },
            "type": "mesh3d"
           }
          ],
          "parcoords": [
           {
            "line": {
             "colorbar": {
              "outlinewidth": 0,
              "ticks": ""
             }
            },
            "type": "parcoords"
           }
          ],
          "pie": [
           {
            "automargin": true,
            "type": "pie"
           }
          ],
          "scatter": [
           {
            "fillpattern": {
             "fillmode": "overlay",
             "size": 10,
             "solidity": 0.2
            },
            "type": "scatter"
           }
          ],
          "scatter3d": [
           {
            "line": {
             "colorbar": {
              "outlinewidth": 0,
              "ticks": ""
             }
            },
            "marker": {
             "colorbar": {
              "outlinewidth": 0,
              "ticks": ""
             }
            },
            "type": "scatter3d"
           }
          ],
          "scattercarpet": [
           {
            "marker": {
             "colorbar": {
              "outlinewidth": 0,
              "ticks": ""
             }
            },
            "type": "scattercarpet"
           }
          ],
          "scattergeo": [
           {
            "marker": {
             "colorbar": {
              "outlinewidth": 0,
              "ticks": ""
             }
            },
            "type": "scattergeo"
           }
          ],
          "scattergl": [
           {
            "marker": {
             "colorbar": {
              "outlinewidth": 0,
              "ticks": ""
             }
            },
            "type": "scattergl"
           }
          ],
          "scattermapbox": [
           {
            "marker": {
             "colorbar": {
              "outlinewidth": 0,
              "ticks": ""
             }
            },
            "type": "scattermapbox"
           }
          ],
          "scatterpolar": [
           {
            "marker": {
             "colorbar": {
              "outlinewidth": 0,
              "ticks": ""
             }
            },
            "type": "scatterpolar"
           }
          ],
          "scatterpolargl": [
           {
            "marker": {
             "colorbar": {
              "outlinewidth": 0,
              "ticks": ""
             }
            },
            "type": "scatterpolargl"
           }
          ],
          "scatterternary": [
           {
            "marker": {
             "colorbar": {
              "outlinewidth": 0,
              "ticks": ""
             }
            },
            "type": "scatterternary"
           }
          ],
          "surface": [
           {
            "colorbar": {
             "outlinewidth": 0,
             "ticks": ""
            },
            "colorscale": [
             [
              0,
              "#0d0887"
             ],
             [
              0.1111111111111111,
              "#46039f"
             ],
             [
              0.2222222222222222,
              "#7201a8"
             ],
             [
              0.3333333333333333,
              "#9c179e"
             ],
             [
              0.4444444444444444,
              "#bd3786"
             ],
             [
              0.5555555555555556,
              "#d8576b"
             ],
             [
              0.6666666666666666,
              "#ed7953"
             ],
             [
              0.7777777777777778,
              "#fb9f3a"
             ],
             [
              0.8888888888888888,
              "#fdca26"
             ],
             [
              1,
              "#f0f921"
             ]
            ],
            "type": "surface"
           }
          ],
          "table": [
           {
            "cells": {
             "fill": {
              "color": "#EBF0F8"
             },
             "line": {
              "color": "white"
             }
            },
            "header": {
             "fill": {
              "color": "#C8D4E3"
             },
             "line": {
              "color": "white"
             }
            },
            "type": "table"
           }
          ]
         },
         "layout": {
          "annotationdefaults": {
           "arrowcolor": "#2a3f5f",
           "arrowhead": 0,
           "arrowwidth": 1
          },
          "autotypenumbers": "strict",
          "coloraxis": {
           "colorbar": {
            "outlinewidth": 0,
            "ticks": ""
           }
          },
          "colorscale": {
           "diverging": [
            [
             0,
             "#8e0152"
            ],
            [
             0.1,
             "#c51b7d"
            ],
            [
             0.2,
             "#de77ae"
            ],
            [
             0.3,
             "#f1b6da"
            ],
            [
             0.4,
             "#fde0ef"
            ],
            [
             0.5,
             "#f7f7f7"
            ],
            [
             0.6,
             "#e6f5d0"
            ],
            [
             0.7,
             "#b8e186"
            ],
            [
             0.8,
             "#7fbc41"
            ],
            [
             0.9,
             "#4d9221"
            ],
            [
             1,
             "#276419"
            ]
           ],
           "sequential": [
            [
             0,
             "#0d0887"
            ],
            [
             0.1111111111111111,
             "#46039f"
            ],
            [
             0.2222222222222222,
             "#7201a8"
            ],
            [
             0.3333333333333333,
             "#9c179e"
            ],
            [
             0.4444444444444444,
             "#bd3786"
            ],
            [
             0.5555555555555556,
             "#d8576b"
            ],
            [
             0.6666666666666666,
             "#ed7953"
            ],
            [
             0.7777777777777778,
             "#fb9f3a"
            ],
            [
             0.8888888888888888,
             "#fdca26"
            ],
            [
             1,
             "#f0f921"
            ]
           ],
           "sequentialminus": [
            [
             0,
             "#0d0887"
            ],
            [
             0.1111111111111111,
             "#46039f"
            ],
            [
             0.2222222222222222,
             "#7201a8"
            ],
            [
             0.3333333333333333,
             "#9c179e"
            ],
            [
             0.4444444444444444,
             "#bd3786"
            ],
            [
             0.5555555555555556,
             "#d8576b"
            ],
            [
             0.6666666666666666,
             "#ed7953"
            ],
            [
             0.7777777777777778,
             "#fb9f3a"
            ],
            [
             0.8888888888888888,
             "#fdca26"
            ],
            [
             1,
             "#f0f921"
            ]
           ]
          },
          "colorway": [
           "#636efa",
           "#EF553B",
           "#00cc96",
           "#ab63fa",
           "#FFA15A",
           "#19d3f3",
           "#FF6692",
           "#B6E880",
           "#FF97FF",
           "#FECB52"
          ],
          "font": {
           "color": "#2a3f5f"
          },
          "geo": {
           "bgcolor": "white",
           "lakecolor": "white",
           "landcolor": "#E5ECF6",
           "showlakes": true,
           "showland": true,
           "subunitcolor": "white"
          },
          "hoverlabel": {
           "align": "left"
          },
          "hovermode": "closest",
          "mapbox": {
           "style": "light"
          },
          "paper_bgcolor": "white",
          "plot_bgcolor": "#E5ECF6",
          "polar": {
           "angularaxis": {
            "gridcolor": "white",
            "linecolor": "white",
            "ticks": ""
           },
           "bgcolor": "#E5ECF6",
           "radialaxis": {
            "gridcolor": "white",
            "linecolor": "white",
            "ticks": ""
           }
          },
          "scene": {
           "xaxis": {
            "backgroundcolor": "#E5ECF6",
            "gridcolor": "white",
            "gridwidth": 2,
            "linecolor": "white",
            "showbackground": true,
            "ticks": "",
            "zerolinecolor": "white"
           },
           "yaxis": {
            "backgroundcolor": "#E5ECF6",
            "gridcolor": "white",
            "gridwidth": 2,
            "linecolor": "white",
            "showbackground": true,
            "ticks": "",
            "zerolinecolor": "white"
           },
           "zaxis": {
            "backgroundcolor": "#E5ECF6",
            "gridcolor": "white",
            "gridwidth": 2,
            "linecolor": "white",
            "showbackground": true,
            "ticks": "",
            "zerolinecolor": "white"
           }
          },
          "shapedefaults": {
           "line": {
            "color": "#2a3f5f"
           }
          },
          "ternary": {
           "aaxis": {
            "gridcolor": "white",
            "linecolor": "white",
            "ticks": ""
           },
           "baxis": {
            "gridcolor": "white",
            "linecolor": "white",
            "ticks": ""
           },
           "bgcolor": "#E5ECF6",
           "caxis": {
            "gridcolor": "white",
            "linecolor": "white",
            "ticks": ""
           }
          },
          "title": {
           "x": 0.05
          },
          "xaxis": {
           "automargin": true,
           "gridcolor": "white",
           "linecolor": "white",
           "ticks": "",
           "title": {
            "standoff": 15
           },
           "zerolinecolor": "white",
           "zerolinewidth": 2
          },
          "yaxis": {
           "automargin": true,
           "gridcolor": "white",
           "linecolor": "white",
           "ticks": "",
           "title": {
            "standoff": 15
           },
           "zerolinecolor": "white",
           "zerolinewidth": 2
          }
         }
        },
        "title": {
         "text": "Losses"
        },
        "xaxis": {
         "anchor": "y",
         "domain": [
          0,
          1
         ],
         "title": {
          "text": "step"
         }
        },
        "yaxis": {
         "anchor": "x",
         "domain": [
          0,
          1
         ],
         "title": {
          "text": "Loss"
         }
        }
       }
      }
     },
     "metadata": {},
     "output_type": "display_data"
    }
   ],
   "source": [
    "import pandas as pd\n",
    "import plotly.express as px\n",
    "\n",
    "df = pd.read_csv(\"logs/csv/version_0/metrics.csv\")\n",
    "train_losses_step   = df[df['train_loss_step' ].notna()].copy()\n",
    "train_losses_epoch  = df[df['train_loss_epoch'].notna()].copy()\n",
    "val_losses          = df[df['val_loss'        ].notna()].copy()\n",
    "test_losses         = df[df['test_loss'       ].notna()].copy()\n",
    "\n",
    "train_losses_step['Dataset']  = 'Train (Step)'\n",
    "train_losses_epoch['Dataset'] = 'Train (Epoch)'\n",
    "val_losses['Dataset']         = 'Val'\n",
    "test_losses['Dataset']        = 'Test'\n",
    "\n",
    "train_losses_step['Loss']    = train_losses_step['train_loss_step']\n",
    "train_losses_epoch['Loss']   = train_losses_epoch['train_loss_epoch']\n",
    "val_losses['Loss']           = val_losses['val_loss']\n",
    "test_losses['Loss']          = test_losses['test_loss']\n",
    "\n",
    "df = pd.concat([train_losses_step, train_losses_epoch, val_losses, test_losses])\n",
    "fig = px.line(df, x='step', y='Loss', color='Dataset', title='Losses').show()"
   ]
  }
 ],
 "metadata": {
  "kernelspec": {
   "display_name": "base",
   "language": "python",
   "name": "python3"
  },
  "language_info": {
   "codemirror_mode": {
    "name": "ipython",
    "version": 3
   },
   "file_extension": ".py",
   "mimetype": "text/x-python",
   "name": "python",
   "nbconvert_exporter": "python",
   "pygments_lexer": "ipython3",
   "version": "3.12.3"
  }
 },
 "nbformat": 4,
 "nbformat_minor": 2
}
